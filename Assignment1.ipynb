{
 "cells": [
  {
   "cell_type": "code",
   "execution_count": 17,
   "id": "04f8ba49-5e58-40ea-af87-6d955a7ffaa2",
   "metadata": {},
   "outputs": [
    {
     "name": "stdin",
     "output_type": "stream",
     "text": [
      "Enter your first name and last name:  Janardan Pathak\n"
     ]
    }
   ],
   "source": [
    "Name = input(\"Enter your first name and last name: \") # used to take and store the input  \n",
    "rev = \" \" # used to store the reverse of the name\n"
   ]
  },
  {
   "cell_type": "code",
   "execution_count": 18,
   "id": "733f9fd4-0c6d-4b81-9634-1e6f448d9168",
   "metadata": {},
   "outputs": [
    {
     "name": "stdout",
     "output_type": "stream",
     "text": [
      "kahtaP nadranaJ \n"
     ]
    }
   ],
   "source": [
    "for i in Name:\n",
    "    rev = i + rev\n",
    "\n",
    "print(rev)"
   ]
  },
  {
   "cell_type": "markdown",
   "id": "9c55f165-dde1-4845-b647-e943b1e3ab81",
   "metadata": {},
   "source": [
    "#### Write a Python program that takes an input number from the user, converts it to different numeric data types (integer, float, and complex), and displays the converted values."
   ]
  },
  {
   "cell_type": "code",
   "execution_count": 3,
   "id": "e2007192-7d46-4832-bccb-8f9f89b88fbb",
   "metadata": {},
   "outputs": [
    {
     "name": "stdin",
     "output_type": "stream",
     "text": [
      "Enter the number:  6\n"
     ]
    }
   ],
   "source": [
    "Num = input(\"Enter the number: \")"
   ]
  },
  {
   "cell_type": "code",
   "execution_count": 5,
   "id": "aac3cbf5-9ec3-4c6a-9857-e59678c71130",
   "metadata": {},
   "outputs": [
    {
     "name": "stdout",
     "output_type": "stream",
     "text": [
      "integer converted value 6\n",
      "float converted value 6.0\n",
      "Complex converted value (6+0j)\n"
     ]
    }
   ],
   "source": [
    "int_value= int(Num) \n",
    "float_value=float(Num) # Use to store decimal number\n",
    "complex_value=complex(Num) # Used to store complex number\n",
    "\n",
    "print(f\"integer converted value {int_value}\") \n",
    "print(f\"float converted value {float_value}\")\n",
    "print(f\"Complex converted value {complex_value}\")"
   ]
  },
  {
   "cell_type": "markdown",
   "id": "381ae3fc-d517-4a66-84c9-beb506a12046",
   "metadata": {},
   "source": [
    "#### Create a Python script that calculates the area of a rectangle"
   ]
  },
  {
   "cell_type": "code",
   "execution_count": 7,
   "id": "bc6ef0d6-ea87-4a87-b2b3-5f4cfdbdffc8",
   "metadata": {},
   "outputs": [
    {
     "name": "stdin",
     "output_type": "stream",
     "text": [
      "Enter the length 6\n",
      "Enter the width 9\n"
     ]
    }
   ],
   "source": [
    "l_value= int(input(\"Enter the length\"))\n",
    "w_value = int(input(\"Enter the width\"))"
   ]
  },
  {
   "cell_type": "code",
   "execution_count": 8,
   "id": "19d7f545-d94c-48f4-92b3-be47ad700ad7",
   "metadata": {},
   "outputs": [
    {
     "name": "stdout",
     "output_type": "stream",
     "text": [
      "area of the rectangle is 54\n"
     ]
    }
   ],
   "source": [
    "area = l_value * w_value\n",
    "print(f\"area of the rectangle is {area}\")"
   ]
  },
  {
   "cell_type": "markdown",
   "id": "e006a4ea-18ba-4346-ba87-37591bcac92e",
   "metadata": {},
   "source": [
    "#### Modify the rectangle area program to format the output so that it displays the area with two decimal places."
   ]
  },
  {
   "cell_type": "code",
   "execution_count": 9,
   "id": "1f72ff7f-dff4-4cde-993c-3359a9475a3a",
   "metadata": {},
   "outputs": [
    {
     "name": "stdout",
     "output_type": "stream",
     "text": [
      "area of the rectangle is 54.00\n"
     ]
    }
   ],
   "source": [
    "area = l_value * w_value\n",
    "float_area = format(area,\".2f\")\n",
    "print(f\"area of the rectangle is {float_area}\")"
   ]
  },
  {
   "cell_type": "markdown",
   "id": "b0353995-8c19-4ba9-b6ac-a9fbf4a6972d",
   "metadata": {},
   "source": [
    "#### Write a Python script that takes three numbers as input and prints their average using the % method for string formatting.\n",
    "\n",
    "#### Also, use the print function to display a message that states, \"The average of the three numbers is: [calculated average]\"."
   ]
  },
  {
   "cell_type": "code",
   "execution_count": 12,
   "id": "fbb1a220-db84-403e-abf3-741b79e2f2bd",
   "metadata": {},
   "outputs": [
    {
     "name": "stdin",
     "output_type": "stream",
     "text": [
      "Enter the first number:  9\n",
      "Enter the second number:  5\n",
      "Enter the third number:  3\n"
     ]
    }
   ],
   "source": [
    "Num1= int(input(\"Enter the first number: \"))\n",
    "Num2= int(input(\"Enter the second number: \"))\n",
    "Num3= int(input(\"Enter the third number: \"))"
   ]
  },
  {
   "cell_type": "code",
   "execution_count": 14,
   "id": "30c5e70b-aff9-4e0c-bb61-70901cc73389",
   "metadata": {},
   "outputs": [
    {
     "name": "stdout",
     "output_type": "stream",
     "text": [
      "The average of the three numbers is: 5.67\n"
     ]
    }
   ],
   "source": [
    "avg=(Num1+Num2+Num3)/3\n",
    "\n",
    "print(\"The average of the three numbers is: %.2f\" % avg)"
   ]
  },
  {
   "cell_type": "markdown",
   "id": "3a973379-0cd0-44bc-bdd4-99773b5e3053",
   "metadata": {},
   "source": [
    "#### Write a Python program that asks the user for a number and determines whether it is positive, negative, or zero.\n",
    "\n",
    "#### Implement a loop that continues to ask the user for a number until they enter 'exit'.\n",
    "\n",
    "#### Use break to exit the loop and continue to prompt for a new number if the input is not 'exit'."
   ]
  },
  {
   "cell_type": "code",
   "execution_count": 15,
   "id": "d88789f8-ea47-4c6d-9444-904e0dc358db",
   "metadata": {},
   "outputs": [
    {
     "name": "stdin",
     "output_type": "stream",
     "text": [
      "Enter the number:  6\n"
     ]
    },
    {
     "name": "stdout",
     "output_type": "stream",
     "text": [
      "number is positive\n"
     ]
    },
    {
     "name": "stdin",
     "output_type": "stream",
     "text": [
      "Enter the number:  5\n"
     ]
    },
    {
     "name": "stdout",
     "output_type": "stream",
     "text": [
      "number is positive\n"
     ]
    },
    {
     "name": "stdin",
     "output_type": "stream",
     "text": [
      "Enter the number:  -1\n"
     ]
    },
    {
     "name": "stdout",
     "output_type": "stream",
     "text": [
      "number is negative\n"
     ]
    },
    {
     "name": "stdin",
     "output_type": "stream",
     "text": [
      "Enter the number:  exit\n"
     ]
    }
   ],
   "source": [
    "while True:\n",
    "    in_value = input(\"Enter the number: \")\n",
    "\n",
    "    if in_value == \"exit\":\n",
    "        break\n",
    "    int_value = int(in_value)\n",
    "\n",
    "    if int_value > 0:\n",
    "        print(\"number is positive\")\n",
    "\n",
    "    elif int_value < 0:\n",
    "        print(\"number is negative\")\n",
    "\n",
    "    else:\n",
    "        print(\"number is zero\")"
   ]
  },
  {
   "cell_type": "markdown",
   "id": "ce893da9-9750-4f3f-ae5a-78f6d5177cac",
   "metadata": {},
   "source": [
    "#### Create a Python script that takes two numbers as input and prints whether both numbers are even, odd, or one of each using relational and logical operators."
   ]
  },
  {
   "cell_type": "code",
   "execution_count": 16,
   "id": "eb50e431-7ec7-4bba-a388-e7d480d5f5ae",
   "metadata": {},
   "outputs": [
    {
     "name": "stdin",
     "output_type": "stream",
     "text": [
      "Enter the first value:  9\n",
      "Enter the second value:  8\n"
     ]
    }
   ],
   "source": [
    "first_value= int(input(\"Enter the first value: \"))\n",
    "second_value= int(input(\"Enter the second value: \"))"
   ]
  },
  {
   "cell_type": "code",
   "execution_count": 19,
   "id": "700ebde7-5991-46a7-8a2e-6d236592e585",
   "metadata": {},
   "outputs": [
    {
     "name": "stdout",
     "output_type": "stream",
     "text": [
      "9 is odd and 8 is even\n"
     ]
    }
   ],
   "source": [
    "if (first_value % 2 ==0) and (second_value % 2 == 0):\n",
    "    print(f\"{first_value} and {second_value} both are even\")\n",
    "elif (first_value % 2 !=0) and (second_value % 2 != 0):\n",
    "    print(f\"{first_value} and {second_value} both are odd\")\n",
    "else:\n",
    "    if first_value % 2 ==0:\n",
    "        print(f\"{first_value} is even and {second_value} is odd\")\n",
    "    else:\n",
    "        print(f\"{first_value} is odd and {second_value} is even\")"
   ]
  },
  {
   "cell_type": "markdown",
   "id": "29b831e3-2176-4c64-9c70-c5bbbdfa7150",
   "metadata": {},
   "source": [
    "#### Write a Python program that takes an integer input and prints its binary, octal, and hexadecimal equivalents using a for loop and bitwise operators."
   ]
  },
  {
   "cell_type": "code",
   "execution_count": 15,
   "id": "f53a51e0-50c7-445c-b627-2ecdb41a6238",
   "metadata": {},
   "outputs": [],
   "source": [
    "def convert(num):\n",
    "    # Converting to binary \n",
    "    binary = bin(num)\n",
    "\n",
    "    # Converting to octal \n",
    "    octal = oct(num)\n",
    "\n",
    "    # Converting to hexadecimal     \n",
    "    hexadecimal = hex(num)\n",
    "\n",
    "    print(f\"Binary: {binary}\")\n",
    "    print(f\"Octal: {octal}\")\n",
    "    print(f\"Hexadecimal: {hexadecimal}\")"
   ]
  },
  {
   "cell_type": "code",
   "execution_count": 13,
   "id": "b5907fdc-cc00-47e7-a99b-622ba300c728",
   "metadata": {},
   "outputs": [
    {
     "name": "stdin",
     "output_type": "stream",
     "text": [
      "Enter an integer:  10\n"
     ]
    },
    {
     "name": "stdout",
     "output_type": "stream",
     "text": [
      "Binary: 0b1010\n",
      "Octal: 0o12\n",
      "Hexadecimal: 0xa\n"
     ]
    }
   ],
   "source": [
    "num = int(input(\"Enter an integer: \"))\n",
    "if num < 0:\n",
    "    print(\"Please enter a non-negative integer.\")\n",
    "else:\n",
    "    convert(num)"
   ]
  },
  {
   "cell_type": "code",
   "execution_count": null,
   "id": "c2d4c978-39e8-42dd-b21f-b3de89bfa71a",
   "metadata": {},
   "outputs": [],
   "source": []
  }
 ],
 "metadata": {
  "kernelspec": {
   "display_name": "Python 3 (ipykernel)",
   "language": "python",
   "name": "python3"
  },
  "language_info": {
   "codemirror_mode": {
    "name": "ipython",
    "version": 3
   },
   "file_extension": ".py",
   "mimetype": "text/x-python",
   "name": "python",
   "nbconvert_exporter": "python",
   "pygments_lexer": "ipython3",
   "version": "3.12.5"
  }
 },
 "nbformat": 4,
 "nbformat_minor": 5
}
